{
 "cells": [
  {
   "cell_type": "markdown",
   "metadata": {},
   "source": [
    "**Question:** Why does this code raise an error: print(\"1234\"+5678)\n",
    "\n",
    "    a]Because Python doesn't know how to add a number to a string.\n",
    "    b]Because in Python it's only possible to add numbers, not strings.\n",
    "    c]Because in Python it's not possible to print integers.\n",
    "    d]Because numbers shouldn't be written between quotes.\n",
    "\n",
    "**Ans:** a"
   ]
  },
  {
   "cell_type": "markdown",
   "metadata": {},
   "source": [
    "**Question:** Now, it's your turn to give it a try!\n",
    "Fill in the blanks to calculate the area of a triangle of base 5, height 3 and output the result.  Reminder:  the area of a triangle is (base*height)/2."
   ]
  },
  {
   "cell_type": "code",
   "execution_count": 39,
   "metadata": {},
   "outputs": [
    {
     "name": "stdout",
     "output_type": "stream",
     "text": [
      "7.5\n"
     ]
    }
   ],
   "source": [
    "base = 5\n",
    "height = 3\n",
    "area = (base*height)/2\n",
    "\n",
    "print(area)"
   ]
  },
  {
   "cell_type": "markdown",
   "metadata": {},
   "source": [
    "**Question:** Practice writing some expressions and conversions yourself.\n",
    "In this scenario, we have a directory with 5 files in it. Each file has a different size: 2048, 4357, 97658, 125, and 8. Fill in the blanks to calculate the average file size by having Python add all the values for you, and then set the files variable to the number of files. Finally, output a message saying \"The average size is: \" followed by the resulting number. Remember to use the str() function to convert the number into a string. "
   ]
  },
  {
   "cell_type": "code",
   "execution_count": 40,
   "metadata": {},
   "outputs": [
    {
     "name": "stdout",
     "output_type": "stream",
     "text": [
      "The average size is:20839.2\n"
     ]
    }
   ],
   "source": [
    "total = 2048 + 4357 + 97658 + 125 + 8\n",
    "files = 5\n",
    "average = total / files\n",
    "print(\"The average size is:\" + str(average))"
   ]
  },
  {
   "cell_type": "markdown",
   "metadata": {},
   "source": [
    "## Practice Quiz"
   ]
  },
  {
   "cell_type": "markdown",
   "metadata": {},
   "source": [
    "**Question 1:** In this scenario, two friends are eating dinner at a restaurant. The bill comes in the amount of 47.28 dollars. The friends decide to split the bill evenly between them, after adding 15% tip for the service. Calculate the tip, the total amount to pay, and each friend's share, then output a message saying \"Each person needs to pay: \" followed by the resulting number."
   ]
  },
  {
   "cell_type": "code",
   "execution_count": 41,
   "metadata": {},
   "outputs": [
    {
     "name": "stdout",
     "output_type": "stream",
     "text": [
      "Each person needs to pay: 27.186\n"
     ]
    }
   ],
   "source": [
    "bill = 47.28\n",
    "tip = bill * 15/100\n",
    "total = bill + tip\n",
    "share = total/2 \n",
    "print(\"Each person needs to pay:\",share)"
   ]
  },
  {
   "cell_type": "markdown",
   "metadata": {},
   "source": [
    "**Question 2:** This code is supposed to take two numbers, divide one by another so that the result is equal to 1, and display the result on the screen. Unfortunately, there is an error in the code. Find the error and fix it, so that the output is correct."
   ]
  },
  {
   "cell_type": "code",
   "execution_count": 42,
   "metadata": {},
   "outputs": [
    {
     "name": "stdout",
     "output_type": "stream",
     "text": [
      "1\n"
     ]
    }
   ],
   "source": [
    "numerator = 10\n",
    "denominator = 10\n",
    "result =int( numerator / denominator)\n",
    "print(result)"
   ]
  },
  {
   "cell_type": "markdown",
   "metadata": {},
   "source": [
    "**Question 3:** Combine the variables to display the sentence \"How do you like Python so far?\" "
   ]
  },
  {
   "cell_type": "code",
   "execution_count": 43,
   "metadata": {},
   "outputs": [
    {
     "name": "stdout",
     "output_type": "stream",
     "text": [
      "How do you like Python so far?\n"
     ]
    }
   ],
   "source": [
    "word1 = \"How\"\n",
    "word2 = \"do\"\n",
    "word3 = \"you\"\n",
    "word4 = \"like\"\n",
    "word5 = \"Python\"\n",
    "word6 = \"so\"\n",
    "word7 = \"far?\"\n",
    "\n",
    "print(word1,word2,word3,word4,word5,word6,word7)"
   ]
  },
  {
   "cell_type": "markdown",
   "metadata": {},
   "source": [
    "**Question 4:** This code is supposed to display \"2 + 2 = 4\" on the screen, but there is an error. Find the error in the code and fix it, so that the output is correct."
   ]
  },
  {
   "cell_type": "code",
   "execution_count": 44,
   "metadata": {},
   "outputs": [
    {
     "name": "stdout",
     "output_type": "stream",
     "text": [
      "2 + 2 = 4\n"
     ]
    }
   ],
   "source": [
    "print(\"2 + 2 =\",(2 + 2))"
   ]
  },
  {
   "cell_type": "markdown",
   "metadata": {},
   "source": [
    "**Question 5:**\n",
    "What do you call a combination of numbers, symbols, or other values that produce a result when evaluated?\n",
    "    \n",
    "    a]An explicit conversion\n",
    "    b]An expression\n",
    "    c]A variable\n",
    "    d]An implicit conversion\n",
    "\n",
    "**Ans:** b "
   ]
  },
  {
   "cell_type": "markdown",
   "metadata": {},
   "source": [
    "**Question:** Do you think you can flesh out your own function? I think you can! Let’s give it a go. \n",
    "\n",
    "Flesh out the body of the print_seconds function so that it prints the total amount of seconds given the hours, minutes, and seconds function parameters. Remember that there are 3600 seconds in an hour and 60 seconds in a minute."
   ]
  },
  {
   "cell_type": "code",
   "execution_count": 45,
   "metadata": {},
   "outputs": [
    {
     "name": "stdout",
     "output_type": "stream",
     "text": [
      "3723\n"
     ]
    }
   ],
   "source": [
    "def print_seconds(hours, minutes, seconds):\n",
    "    print((hours*3600)+(minutes*60)+seconds)\n",
    "\n",
    "print_seconds(1,2,3)"
   ]
  },
  {
   "cell_type": "markdown",
   "metadata": {},
   "source": [
    "**Question:** Use the get_seconds function to work out the amount of seconds in 2 hours and 30 minutes, then add this number to the amount of seconds in 45 minutes and 15 seconds. Then print the result."
   ]
  },
  {
   "cell_type": "code",
   "execution_count": 46,
   "metadata": {},
   "outputs": [
    {
     "name": "stdout",
     "output_type": "stream",
     "text": [
      "11715\n"
     ]
    }
   ],
   "source": [
    "def get_seconds(hours, minutes, seconds):\n",
    "  return 3600*hours + 60*minutes + seconds\n",
    "\n",
    "amount_a = get_seconds((2),(30),0)\n",
    "amount_b = get_seconds(0,(45),(15))\n",
    "result = amount_a+amount_b\n",
    "print(result)"
   ]
  },
  {
   "cell_type": "markdown",
   "metadata": {},
   "source": [
    "**Question:** Ready to try it yourself? See if you can reduce the code duplication in this script.\n",
    "\n",
    "In this code, identify the repeated pattern and replace it with a function called month_days, that receives the name of the month and the number of days in that month as parameters. Adapt the rest of the code so that the result is the same. Confirm your results by making a function call with the correct parameters for both months listed."
   ]
  },
  {
   "cell_type": "code",
   "execution_count": 47,
   "metadata": {},
   "outputs": [
    {
     "name": "stdout",
     "output_type": "stream",
     "text": [
      "June has 30 days.\n",
      "July has 31 days.\n"
     ]
    }
   ],
   "source": [
    "# REPLACE THIS STARTER CODE WITH YOUR FUNCTION\n",
    "def month_days(month,days):\n",
    "    print(month +\" has \"+ str(days) +  \" days.\")\n",
    "month_days(\"June\",30)\n",
    "month_days(\"July\",31)"
   ]
  },
  {
   "cell_type": "markdown",
   "metadata": {},
   "source": [
    "**Question:** This function to calculate the area of a rectangle is not very readable. Can you refactor it, and then call the function to calculate the area with base of 5 and height of 6?\n",
    "Tip: a function that calculates the area of a rectangle should probably be called rectangle_area, and if it's receiving base and height, that's what the parameters should be called.\n"
   ]
  },
  {
   "cell_type": "code",
   "execution_count": 48,
   "metadata": {},
   "outputs": [
    {
     "name": "stdout",
     "output_type": "stream",
     "text": [
      "The area is 30\n"
     ]
    }
   ],
   "source": [
    "\n",
    "def rectangle_area(base,height):\n",
    "\tarea =base*height  # the area is base*height\n",
    "\tprint(\"The area is \" + str(area))\n",
    "rectangle_area(5,6)"
   ]
  },
  {
   "cell_type": "markdown",
   "metadata": {},
   "source": [
    "## Practice Quiz"
   ]
  },
  {
   "cell_type": "markdown",
   "metadata": {},
   "source": [
    "**Question 1:** This function converts miles to kilometers (km).\n",
    "\n",
    "Complete the function to return the result of the conversion\n",
    "\n",
    "Call the function to convert the trip distance from miles to kilometers\n",
    "\n",
    "Fill in the blank to print the result of the conversion\n",
    "\n",
    "Calculate the round-trip in kilometers by doubling the result, and fill in the blank to print the result"
   ]
  },
  {
   "cell_type": "code",
   "execution_count": 49,
   "metadata": {},
   "outputs": [
    {
     "name": "stdout",
     "output_type": "stream",
     "text": [
      "The distance in kilometers is 88.0\n",
      "The round-trip in kilometers is 176.0\n"
     ]
    }
   ],
   "source": [
    "# 1) Complete the function to return the result of the conversion\n",
    "def convert_distance(miles):\n",
    "\tkm = miles * 1.6  # approximately 1.6 km in 1 mile\n",
    "\treturn km\n",
    "my_trip_miles = 55\n",
    "\n",
    "# 2) Convert my_trip_miles to kilometers by calling the function above\n",
    "my_trip_km = convert_distance(my_trip_miles)\n",
    "\n",
    "# 3) Fill in the blank to print the result of the conversion\n",
    "print(\"The distance in kilometers is \" +str(my_trip_km))\n",
    "\n",
    "# 4) Calculate the round-trip in kilometers by doubling the result,\n",
    "#    and fill in the blank to print the result\n",
    "print(\"The round-trip in kilometers is \" + str((my_trip_km)*2))"
   ]
  },
  {
   "cell_type": "markdown",
   "metadata": {},
   "source": [
    "**Question 2:** This function compares two numbers and returns them in increasing order.\n",
    "\n",
    "Fill in the blanks, so the print statement displays the result of the function call in order.\n",
    "\n",
    "Hint: if a function returns multiple values, don't forget to store these values in multiple variables"
   ]
  },
  {
   "cell_type": "code",
   "execution_count": 50,
   "metadata": {},
   "outputs": [
    {
     "name": "stdout",
     "output_type": "stream",
     "text": [
      "99 100\n"
     ]
    }
   ],
   "source": [
    "# This function compares two numbers and returns them\n",
    "# in increasing order.\n",
    "def order_numbers(number1, number2):\n",
    "\tif number2 > number1:\n",
    "\t\treturn number1, number2\n",
    "\telse:\n",
    "\t\treturn number2, number1\n",
    "\n",
    "# 1) Fill in the blanks so the print statement displays the result\n",
    "#    of the function call\n",
    "smaller,bigger = order_numbers(100, 99)\n",
    "print(smaller, bigger)"
   ]
  },
  {
   "cell_type": "markdown",
   "metadata": {},
   "source": [
    "**Question 3:**What are the values passed into functions as input called?\n",
    "\n",
    "    a]Variables\n",
    "    b]Return values\n",
    "    c]Parameters\n",
    "    d]Data types\n",
    "\n",
    "**Ans:** c"
   ]
  },
  {
   "cell_type": "markdown",
   "metadata": {},
   "source": [
    "**Question 4:** Let's revisit our lucky_number function. We want to change it, so that instead of printing the message, it returns the message. This way, the calling line can print the message, or do something else with it if needed. Fill in the blanks to complete the code to make it work."
   ]
  },
  {
   "cell_type": "code",
   "execution_count": 51,
   "metadata": {},
   "outputs": [
    {
     "name": "stdout",
     "output_type": "stream",
     "text": [
      "Hello Kay. Your lucky number is 27\n",
      "Hello Cameron. Your lucky number is 63\n"
     ]
    }
   ],
   "source": [
    "def lucky_number(name):\n",
    "  number = len(name) * 9\n",
    "  str1 = \"Hello \" + name + \". Your lucky number is \" + str(number)\n",
    "  return str1\n",
    "\t    \n",
    "print(lucky_number(\"Kay\"))\n",
    "print(lucky_number(\"Cameron\"))"
   ]
  },
  {
   "cell_type": "markdown",
   "metadata": {},
   "source": [
    "**Question 5:** What is the purpose of the def keyword?\n",
    "\n",
    "    a]Used to define a new function\n",
    "    b]Used to define a return value\n",
    "    c]Used to define a new variable\n",
    "    d]Used to define a new parameter\n",
    "\n",
    "**Ans:** a"
   ]
  },
  {
   "cell_type": "markdown",
   "metadata": {},
   "source": [
    "**Question:** Figure out what's the relationship between the strings \"cat\" and \"Cat\" by replacing the plus sign with comparison operators.print(\"cat\" < \"Cat\")\n",
    "\n",
    "    a]\"cat\" equals \"Cat\"\n",
    "    b]\"cat\" is smaller than \"Cat\"\n",
    "    c]\"cat\" is larger than \"Cat\"\n",
    "\n",
    "**Ans:** c\n"
   ]
  },
  {
   "cell_type": "markdown",
   "metadata": {},
   "source": [
    "**Question:** The is_positive function should return True if the number received is positive, otherwise it returns None. Can you fill in the gaps to make that happen?"
   ]
  },
  {
   "cell_type": "code",
   "execution_count": 52,
   "metadata": {},
   "outputs": [],
   "source": [
    "def is_positive(number):\n",
    "  if number > 0:\n",
    "    return True"
   ]
  },
  {
   "cell_type": "markdown",
   "metadata": {},
   "source": [
    "**Question:** The is_positive function should return True if the number received is positive and False if it isn't. Can you fill in the gaps to make that happen?"
   ]
  },
  {
   "cell_type": "code",
   "execution_count": 53,
   "metadata": {},
   "outputs": [],
   "source": [
    "def is_positive(number):\n",
    "  if number > 0:\n",
    "    return True\n",
    "  else:\n",
    "    return False\n"
   ]
  },
  {
   "cell_type": "markdown",
   "metadata": {},
   "source": [
    "**Question:** The number_group function should return \"Positive\" if the number received is positive, \"Negative\" if it's negative, and \"Zero\" if it's 0. Can you fill in the gaps to make that happen?"
   ]
  },
  {
   "cell_type": "code",
   "execution_count": 54,
   "metadata": {},
   "outputs": [
    {
     "name": "stdout",
     "output_type": "stream",
     "text": [
      "Positive\n",
      "Zero\n",
      "Negative\n"
     ]
    }
   ],
   "source": [
    "def number_group(number):\n",
    "  if number > 0:\n",
    "    return \"Positive\"\n",
    "  elif number < 0:\n",
    "    return \"Negative\"\n",
    "  else:\n",
    "    return \"Zero\"\n",
    "\n",
    "print(number_group(10)) #Should be Positive\n",
    "print(number_group(0)) #Should be Zero\n",
    "print(number_group(-5)) #Should be Negative"
   ]
  },
  {
   "cell_type": "markdown",
   "metadata": {},
   "source": [
    "## Practice Quiz"
   ]
  },
  {
   "cell_type": "markdown",
   "metadata": {},
   "source": [
    "**Question 1:** What's the value of this Python expression: (2**2) == 4?\n",
    "\n",
    "    a]4\n",
    "    b]2**2\n",
    "    c]True\n",
    "    d]False\n",
    "\n",
    "**Ans:** c"
   ]
  },
  {
   "cell_type": "markdown",
   "metadata": {},
   "source": [
    "**Question 2:**Complete the script by filling in the missing parts. The function receives a name, then returns a greeting based on whether or not that name is \"Taylor\"."
   ]
  },
  {
   "cell_type": "code",
   "execution_count": 55,
   "metadata": {},
   "outputs": [
    {
     "name": "stdout",
     "output_type": "stream",
     "text": [
      "Welcome back Taylor!\n",
      "Hello there, John\n"
     ]
    }
   ],
   "source": [
    "def greeting(name):\n",
    "  if name == \"Taylor\":\n",
    "    return \"Welcome back Taylor!\"\n",
    "  else:\n",
    "    return \"Hello there, \" + name\n",
    "\n",
    "print(greeting(\"Taylor\"))\n",
    "print(greeting(\"John\"))"
   ]
  },
  {
   "cell_type": "markdown",
   "metadata": {},
   "source": [
    "**Question 3:** What’s the output of this code if number equals 10?"
   ]
  },
  {
   "cell_type": "code",
   "execution_count": 56,
   "metadata": {},
   "outputs": [
    {
     "name": "stdout",
     "output_type": "stream",
     "text": [
      "2\n"
     ]
    }
   ],
   "source": [
    "number=10\n",
    "if number > 11: \n",
    "  print(0)\n",
    "elif number != 10:\n",
    "  print(1)\n",
    "elif number >= 20 or number < 12:\n",
    "  print(2)\n",
    "else:\n",
    "  print(3)"
   ]
  },
  {
   "cell_type": "markdown",
   "metadata": {},
   "source": [
    "**Question 4:** Is \"A dog\" smaller or larger than \"A mouse\"? Is 9999+8888 smaller or larger than 100 * 100? Replace the plus sign in the following code to let Python check it for you and then answer.print(\"A dog\" > \"A mouse\")print(9999+8888 > 100*100)\n",
    "\n",
    "    a]\"A dog\" is larger than \"A mouse\" and 9999+8888 is larger than 100*100\n",
    "    b]\"A dog\" is smaller than \"A mouse\" and 9999+8888 is larger than 100*100\n",
    "    c]\"A dog\" is larger than \"A mouse\" and 9999+8888 is smaller than 100*100\n",
    "    d]\"A dog\" is smaller than \"A mouse\" and 9999+8888 is smaller than 100*100\n",
    "\n",
    "**Ans:** b"
   ]
  },
  {
   "cell_type": "markdown",
   "metadata": {},
   "source": [
    "**Question 5:** If a filesystem has a block size of 4096 bytes, this means that a file comprised of only one byte will still use 4096 bytes of storage. A file made up of 4097 bytes will use 4096*2=8192 bytes of storage. Knowing this, can you fill in the gaps in the calculate_storage function below, which calculates the total number of bytes needed to store a file of a given size?"
   ]
  },
  {
   "cell_type": "code",
   "execution_count": 57,
   "metadata": {},
   "outputs": [
    {
     "name": "stdout",
     "output_type": "stream",
     "text": [
      "4096\n",
      "4096\n",
      "8192\n",
      "8192\n"
     ]
    }
   ],
   "source": [
    "def calculate_storage(filesize):\n",
    "    block_size = 4096\n",
    "    # Use floor division to calculate how many blocks are fully occupied\n",
    "    full_blocks = filesize/block_size\n",
    "    \n",
    "    # Use the modulo operator to check whether there's any remainder\n",
    "    partial_block_remainder = filesize%block_size\n",
    "   \n",
    "    # Depending on whether there's a remainder or not, return\n",
    "    # the total number of bytes required to allocate enough blocks\n",
    "    # to store your data.\n",
    "    if partial_block_remainder > 0:\n",
    "        return round(block_size*(round(full_blocks+1)))\n",
    "    return round(block_size*full_blocks)\n",
    "\n",
    "print(calculate_storage(1))    # Should be 4096\n",
    "print(calculate_storage(4096)) # Should be 4096\n",
    "print(calculate_storage(4097)) # Should be 8192\n",
    "print(calculate_storage(6000)) # Should be 8192"
   ]
  }
 ],
 "metadata": {
  "kernelspec": {
   "display_name": "Python 3.10.4 64-bit",
   "language": "python",
   "name": "python3"
  },
  "language_info": {
   "codemirror_mode": {
    "name": "ipython",
    "version": 3
   },
   "file_extension": ".py",
   "mimetype": "text/x-python",
   "name": "python",
   "nbconvert_exporter": "python",
   "pygments_lexer": "ipython3",
   "version": "3.10.4"
  },
  "orig_nbformat": 4,
  "vscode": {
   "interpreter": {
    "hash": "8c3d4d9970fc5c09c50d9318a9c7fbf4d0159e4b28833276f5678ee22bded273"
   }
  }
 },
 "nbformat": 4,
 "nbformat_minor": 2
}
