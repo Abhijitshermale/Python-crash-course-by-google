{
 "cells": [
  {
   "cell_type": "markdown",
   "metadata": {},
   "source": [
    "1.\n",
    "Question 1\n",
    "\n",
    "What is a computer program?\n",
    "1 / 1 point\n",
    "\n",
    "A file that gets printed by the Python interpreter.\n",
    "\n",
    "The syntax and semantics of Python.\n",
    "\n",
    "The overview of what the computer will have to do to solve some automation problem.\n",
    "\n",
    "    A step-by-step recipe of what needs to be done to complete a task, that gets executed by the computer."
   ]
  },
  {
   "cell_type": "markdown",
   "metadata": {},
   "source": [
    "2.\n",
    "Question 2\n",
    "\n",
    "What’s automation?\n",
    "1 / 1 point\n",
    "\n",
    "The inputs and outputs of a program.\n",
    "\n",
    "    The process of replacing a manual step with one that happens automatically.\n",
    "\n",
    "The checkout processes at a grocery store.\n",
    "\n",
    "The process of getting a haircut."
   ]
  },
  {
   "cell_type": "markdown",
   "metadata": {},
   "source": [
    "3.\n",
    "Question 3\n",
    "\n",
    "Which of the following tasks are good candidates for automation? Check all that apply.\n",
    "0 / 1 point\n",
    "\n",
    "Writing a computer program.\n",
    "\n",
    "    Creating a report of how much each sales person has sold in the last month.\n",
    "\n",
    "Setting the home directory and access permissions for new employees joining your company.\n",
    "\n",
    "Designing the new webpage for your company.\n",
    "\n",
    "Taking pictures of friends and family at a wedding.\n",
    "\n",
    "    Populating your company's e-commerce site with the latest products in the catalog."
   ]
  },
  {
   "cell_type": "markdown",
   "metadata": {},
   "source": [
    "4.\n",
    "Question 4\n",
    "\n",
    "What are some characteristics of the Python programming language? Check all that apply.\n",
    "1 / 1 point\n",
    "\n",
    "    Python programs are easy to write and understand.\n",
    "\n",
    "    The Python interpreter reads our code and transforms it into computer instructions.\n",
    "\n",
    "It's an outdated language that's barely in use anymore.\n",
    "\n",
    "    We can practice Python using web interpreters or codepads as well as executing it locally. "
   ]
  },
  {
   "cell_type": "markdown",
   "metadata": {},
   "source": [
    "5.\n",
    "Question 5\n",
    "\n",
    "How does Python compare to other programming languages?\n",
    "1 / 1 point\n",
    "\n",
    "Python is the only programming language that is worth learning.\n",
    "\n",
    "    Each programming language has its advantages and disadvantages.\n",
    "\n",
    "It's always better to use an OS specific language like Bash or Powershell than using a generic language like Python.\n",
    "\n",
    "Programming languages are so different that learning a second one is harder than learning the first one. "
   ]
  },
  {
   "cell_type": "markdown",
   "metadata": {},
   "source": [
    "6.\n",
    "Question 6\n",
    "\n",
    "Write a Python script that outputs \"Automating with Python is fun!\" to the screen."
   ]
  },
  {
   "cell_type": "code",
   "execution_count": 2,
   "metadata": {},
   "outputs": [
    {
     "name": "stdout",
     "output_type": "stream",
     "text": [
      "Automating with Python is fun!\n"
     ]
    }
   ],
   "source": [
    "# ans6\n",
    "print(\"Automating with Python is fun!\")"
   ]
  },
  {
   "cell_type": "markdown",
   "metadata": {},
   "source": [
    "7.\n",
    "Question 7\n",
    "\n",
    "Fill in the blanks so that the code prints \"Yellow is the color of sunshine\"."
   ]
  },
  {
   "cell_type": "code",
   "execution_count": 3,
   "metadata": {},
   "outputs": [
    {
     "name": "stdout",
     "output_type": "stream",
     "text": [
      "Yellow is the color of sunshine\n"
     ]
    }
   ],
   "source": [
    "# ans7\n",
    "color = \"Yellow\"\n",
    "thing = \"sunshine\"\n",
    "print(color + \" is the color of \" + thing)"
   ]
  },
  {
   "cell_type": "markdown",
   "metadata": {},
   "source": [
    "8.\n",
    "Question 8\n",
    "\n",
    "Keeping in mind there are 86400 seconds per day, write a program that calculates how many seconds there are in a week, if a week is 7 days.  Print the result on the screen.\n",
    "\n",
    "Note: Your result should be in the format of just a number, not a sentence."
   ]
  },
  {
   "cell_type": "code",
   "execution_count": 4,
   "metadata": {},
   "outputs": [
    {
     "name": "stdout",
     "output_type": "stream",
     "text": [
      "604800\n"
     ]
    }
   ],
   "source": [
    "# ans8\n",
    "perdaymin=86400\n",
    "print(perdaymin*7)"
   ]
  },
  {
   "cell_type": "markdown",
   "metadata": {},
   "source": [
    "9.\n",
    "Question 9\n",
    "\n",
    "Use Python to calculate how many different passwords can be formed with 6 lower case English letters.  For a 1 letter password, there would be 26 possibilities.  For a 2 letter password, each letter is independent of the other, so there would be 26 times 26 possibilities.  Using this information, print the amount of possible passwords that can be formed with 6 letters."
   ]
  },
  {
   "cell_type": "code",
   "execution_count": 5,
   "metadata": {},
   "outputs": [
    {
     "name": "stdout",
     "output_type": "stream",
     "text": [
      "308915776\n"
     ]
    }
   ],
   "source": [
    "# ans9\n",
    "# not correct\n",
    "print((26**6))"
   ]
  },
  {
   "cell_type": "markdown",
   "metadata": {},
   "source": [
    "10.\n",
    "Question 10\n",
    "\n",
    "Most hard drives are divided into sectors of 512 bytes each.  Our disk has a size of 16 GB. Fill in the blank to calculate how many sectors the disk has.\n",
    "\n",
    "Note: Your result should be in the format of just a number, not a sentence."
   ]
  },
  {
   "cell_type": "code",
   "execution_count": 6,
   "metadata": {},
   "outputs": [
    {
     "name": "stdout",
     "output_type": "stream",
     "text": [
      "33554432.0\n"
     ]
    }
   ],
   "source": [
    "# ans10\n",
    "disk_size = 16*1024*1024*1024\n",
    "sector_size = 512\n",
    "sector_amount = disk_size/sector_size\n",
    "\n",
    "print(sector_amount)"
   ]
  }
 ],
 "metadata": {
  "kernelspec": {
   "display_name": "Python 3.10.4 64-bit",
   "language": "python",
   "name": "python3"
  },
  "language_info": {
   "codemirror_mode": {
    "name": "ipython",
    "version": 3
   },
   "file_extension": ".py",
   "mimetype": "text/x-python",
   "name": "python",
   "nbconvert_exporter": "python",
   "pygments_lexer": "ipython3",
   "version": "3.10.4"
  },
  "orig_nbformat": 4,
  "vscode": {
   "interpreter": {
    "hash": "8c3d4d9970fc5c09c50d9318a9c7fbf4d0159e4b28833276f5678ee22bded273"
   }
  }
 },
 "nbformat": 4,
 "nbformat_minor": 2
}
