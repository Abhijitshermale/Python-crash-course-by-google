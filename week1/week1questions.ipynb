{
 "cells": [
  {
   "cell_type": "markdown",
   "metadata": {},
   "source": [
    "**Question**\n",
    "\n",
    "**Did you get all that? Let's check with a quick question!**\n",
    "**Why do we need to learn the syntax and semantics of a programming language?**\n",
    "\n",
    "    a]To be able to easily switch to a different programming language\n",
    "    b]So that we know which part is the subject and which one is the predicate\n",
    "    c]To allow us to clearly express what we want the computer to do\n",
    "    d]To understand why our computer crashes\n",
    "\n",
    "**Ans:**\n",
    "*To allow us to clearly express what we want the computer to do*"
   ]
  },
  {
   "cell_type": "markdown",
   "metadata": {},
   "source": [
    "**Question**\n",
    "\n",
    "Let's check that this all made sense with a quick question!\n",
    "\n",
    "**What’s automation?**\n",
    "\n",
    "    a)The process of telling a computer what to do\n",
    "    b)The process of installing traffic lights\n",
    "    c)The process of getting a haircut\n",
    "    d)The process of replacing a manual step with one that happens automatically\n",
    "    \n",
    "**Ans:**\n",
    "*The process of replacing a manual step with one that happens automatically*\n"
   ]
  },
  {
   "cell_type": "markdown",
   "metadata": {},
   "source": [
    "**Question**\n",
    "\n",
    "**Which of the following tasks do you think are good candidates for automation? Check all that apply.**\n",
    "\n",
    "    a]Periodically scanning the disk usage of a group of fileservers\n",
    "    b]Designing a configuration management system for deploying software patches\n",
    "    c]Installing software on laptops given to new employees when they are hired\n",
    "    d]Investigating reports that customers are having difficulty accessing your company's external website\n",
    "\n",
    "**Ans:**\n",
    "*Periodically scanning the disk usage of a group of fileservers*\n",
    "*Installing software on laptops given to new employees when they are hired*\n"
   ]
  },
  {
   "cell_type": "markdown",
   "metadata": {},
   "source": [
    "## Practice Quiz\n",
    "\n",
    "**Question 1**\n",
    "\n",
    "**What’s a computer program?**\n",
    "\n",
    "    a}A set of languages available in the computer\n",
    "    b}A process for getting duplicate values removed from a list\n",
    "    c}A list of instructions that the computer has to follow to reach a goal\n",
    "    d}A file that gets copied to all machines in the network\n",
    "\n",
    "**Ans:**\n",
    "*A list of instructions that the computer has to follow to reach a goal*\n",
    "\n",
    "**Question 2**\n",
    "\n",
    "**What’s the syntax of a language?**\n",
    "\n",
    "    a}The rules of how to express things in that language\n",
    "\n",
    "    b}The subject of a sentence\n",
    "\n",
    "    c}The difference between one language and another\n",
    "\n",
    "    d}The meaning of the words\n",
    "\n",
    "**Ans:**\n",
    "_The rules of how to express things in that language_\n",
    "\n",
    "**Question 3**\n",
    "\n",
    "**What’s the difference between a program and a script?**\n",
    "\n",
    "    a}There’s not much difference, but scripts are usually simpler and shorter.\n",
    "    b}Scripts are only written in Python.\n",
    "    c}Scripts can only be used for simple tasks.\n",
    "    d}Programs are written by software engineers; scripts are written by system administrators.\n",
    "\n",
    "**Ans:**\n",
    "*There’s not much difference, but scripts are usually simpler and shorter.*\n",
    "\n",
    "**Question 4**\n",
    "\n",
    "**Which of these scenarios are good candidates for automation? Select all that apply.**\n",
    "\n",
    "    a} Generating a sales report, split by region and product type\n",
    "    b} Creating your own startup company\n",
    "    c} Helping a user who’s having network troubles\n",
    "    d} Copying a file to all computers in a company\n",
    "    e} Interviewing a candidate for a job \n",
    "    f} Sending personalized emails to subscribers of your website\n",
    "    g} Investigating the root cause of a machine failing to boot\n",
    "\n",
    "**Ans:**\n",
    "*Copying a file to all computers in a company*\n",
    "*Sending personalized emails to subscribers of your website*\n",
    "\n",
    "**Question 5**\n",
    "\n",
    "**What are semantics when applied to programming code and pseudocode?**\n",
    "\n",
    "    a} The rules for how a programming instruction is written\n",
    "    b} The difference in number values in one instance of a script compared to another\n",
    "    c} The effect the programming instructions have\n",
    "    d}The end result of a programming instruction\n",
    "\n",
    "**Ans:**\n",
    "*The effect the programming instructions have*"
   ]
  },
  {
   "cell_type": "markdown",
   "metadata": {},
   "source": [
    "**Question**\n",
    "\n",
    "**Execute the following code and see what happens. Feel free to change it and run it as many times as you want.**"
   ]
  },
  {
   "cell_type": "code",
   "execution_count": 122,
   "metadata": {},
   "outputs": [
    {
     "name": "stdout",
     "output_type": "stream",
     "text": [
      "Hi Taylor\n",
      "Hi Alex\n",
      "Hi Pat\n",
      "Hi Eli\n"
     ]
    }
   ],
   "source": [
    "friends = ['Taylor', 'Alex', 'Pat', 'Eli']\n",
    "for friend in friends:\n",
    "    print(\"Hi \" + friend)"
   ]
  },
  {
   "cell_type": "markdown",
   "metadata": {},
   "source": [
    "**Question**\n",
    "\n",
    "**Let's check whether you soaked all that in with a quick question! Select all options that explain why Python is relevant to today’s IT industry.**\n",
    "\n",
    "    a]Python scripts are easy to write, understand, and maintain.\n",
    "    b]There are many system administration tools built with Python.\n",
    "    c]Python was written by Guido van Rossum in 1991.\n",
    "    d]Python is available on a wide variety of platforms.\n",
    "    e]There have been multiple major version releases over the years which incorporate significant changes to the language.\n",
    "\n",
    "**Ans:**\n",
    "*Python scripts are easy to write, understand, and maintain.*\n",
    "*There are many system administration tools built with Python.*\n",
    "*Python is available on a wide variety of platforms.*"
   ]
  },
  {
   "cell_type": "markdown",
   "metadata": {},
   "source": [
    "**Question**\n",
    "\n",
    "**Here's how printing \"Hello, World\" 10 times looks in Bash and Powershell:**\n",
    "**Now try out the Python example yourself:**"
   ]
  },
  {
   "cell_type": "code",
   "execution_count": 123,
   "metadata": {},
   "outputs": [
    {
     "name": "stdout",
     "output_type": "stream",
     "text": [
      "Hello, World!\n",
      "Hello, World!\n",
      "Hello, World!\n",
      "Hello, World!\n",
      "Hello, World!\n",
      "Hello, World!\n",
      "Hello, World!\n",
      "Hello, World!\n",
      "Hello, World!\n",
      "Hello, World!\n"
     ]
    }
   ],
   "source": [
    "for i in range(10):\n",
    "  print(\"Hello, World!\")"
   ]
  },
  {
   "cell_type": "markdown",
   "metadata": {},
   "source": [
    "## Practice Quiz"
   ]
  },
  {
   "cell_type": "markdown",
   "metadata": {},
   "source": [
    "**Question 1**\n",
    "**Fill in the correct Python command to put “My first Python program” onto the screen.**"
   ]
  },
  {
   "cell_type": "code",
   "execution_count": 124,
   "metadata": {},
   "outputs": [
    {
     "name": "stdout",
     "output_type": "stream",
     "text": [
      "My first Python program\n"
     ]
    }
   ],
   "source": [
    "print(\"My first Python program\")"
   ]
  },
  {
   "cell_type": "markdown",
   "metadata": {},
   "source": [
    "**Question 2**\n",
    "**Python is an example of what type of programming language?**\n",
    "\n",
    "     a}Platform-specific scripting language\n",
    "     b}Machine language \n",
    "     c} General purpose scripting language \n",
    "     d} Client-side scripting language\n",
    "\n",
    "**Ans:**\n",
    "*General purpose scripting language*"
   ]
  },
  {
   "cell_type": "markdown",
   "metadata": {},
   "source": [
    "**Question 3**\n",
    "\n",
    "**Convert this Bash command into Python:**"
   ]
  },
  {
   "cell_type": "code",
   "execution_count": 125,
   "metadata": {},
   "outputs": [
    {
     "name": "stdout",
     "output_type": "stream",
     "text": [
      "Have a nice day\n"
     ]
    }
   ],
   "source": [
    "print(\"Have a nice day\")"
   ]
  },
  {
   "cell_type": "markdown",
   "metadata": {},
   "source": [
    "**Question 4**\n",
    "\n",
    "**Fill in the correct Python commands to put “This is fun!” onto the screen 5 times.** "
   ]
  },
  {
   "cell_type": "code",
   "execution_count": 126,
   "metadata": {},
   "outputs": [
    {
     "name": "stdout",
     "output_type": "stream",
     "text": [
      "This is fun!\n",
      "This is fun!\n",
      "This is fun!\n",
      "This is fun!\n",
      "This is fun!\n"
     ]
    }
   ],
   "source": [
    "for i in range(5):\n",
    "  print(\"This is fun!\")"
   ]
  },
  {
   "cell_type": "markdown",
   "metadata": {},
   "source": [
    "**Question 5**\n",
    "\n",
    "**Select the Python code snippet that corresponds to the following Javascript snippet:**\n",
    "_for (let i = 0; i < 10; i++) {_\n",
    "        _console.log(i);_\n",
    "    _}_\n",
    "\n",
    "    a}  for a in 1..5 do    \n",
    "        puts i \n",
    "        end\n",
    "    b}  for (int i = 0; i < 10; i++)\n",
    "        {\n",
    "            print()\n",
    "        }\n",
    "    c}  for (i in x) \n",
    "        {\n",
    "            print(i)\n",
    "        }\n",
    "    d}  for i in range(10):\n",
    "            print(i)\n",
    "\n",
    "**Ans:**\n",
    "**for i in range(10):**\n",
    "        **print(i)**\n"
   ]
  },
  {
   "cell_type": "code",
   "execution_count": 127,
   "metadata": {},
   "outputs": [
    {
     "name": "stdout",
     "output_type": "stream",
     "text": [
      "0\n",
      "1\n",
      "2\n",
      "3\n",
      "4\n",
      "5\n",
      "6\n",
      "7\n",
      "8\n",
      "9\n"
     ]
    }
   ],
   "source": [
    "# ans\n",
    "for i in range(10):\n",
    "  print(i)"
   ]
  },
  {
   "cell_type": "markdown",
   "metadata": {},
   "source": [
    "**Question**\n",
    "\n",
    "**Now that you know what’s going on with this piece of code, try making Python output a different string. Write a Python script that outputs \"I'm programming in Python!\" to the screen. Remember that you need to use the print() function and use quotation marks to delimiter the string.**"
   ]
  },
  {
   "cell_type": "code",
   "execution_count": 128,
   "metadata": {},
   "outputs": [
    {
     "name": "stdout",
     "output_type": "stream",
     "text": [
      "I'm programming in Python!\n"
     ]
    }
   ],
   "source": [
    "print(\"I'm programming in Python!\")"
   ]
  },
  {
   "cell_type": "markdown",
   "metadata": {},
   "source": [
    "**Question**\n",
    "\n",
    "**Give it a try yourself! In the following script, change the values of color and thing to have the computer output a different statement than the initial one.**"
   ]
  },
  {
   "cell_type": "code",
   "execution_count": 129,
   "metadata": {},
   "outputs": [
    {
     "name": "stdout",
     "output_type": "stream",
     "text": [
      "White is the color of scielence\n"
     ]
    }
   ],
   "source": [
    "color = \"White\"\n",
    "thing = \"scielence\"\n",
    "print(color + \" is the color of \" + thing)"
   ]
  },
  {
   "cell_type": "markdown",
   "metadata": {},
   "source": [
    "**Question**\n",
    "\n",
    "**Now it’s your turn to try! Give this a go yourself.**\n",
    "\n",
    "**Use Python to calculate (((1+2)∗3)/4)5(((1+2)*3)/4)^5(((1+2)∗3)/4)5**\n",
    "Tip: remember that you can use a**b to calculate a to the power of b. "
   ]
  },
  {
   "cell_type": "code",
   "execution_count": 130,
   "metadata": {},
   "outputs": [
    {
     "name": "stdout",
     "output_type": "stream",
     "text": [
      "57.6650390625\n"
     ]
    }
   ],
   "source": [
    "print((((1+2)*3)/4)**5)"
   ]
  },
  {
   "cell_type": "markdown",
   "metadata": {},
   "source": [
    "## Practice Quiz"
   ]
  },
  {
   "cell_type": "markdown",
   "metadata": {},
   "source": [
    "**Question 1**\n",
    "\n",
    "**What are functions in Python?**\n",
    "\n",
    "    a]Functions let us to use Python as a calculator.\n",
    "    b]Functions are pieces of code that perform a unit of work.\n",
    "    c]Functions are only used to print messages to the screen.\n",
    "    d]Functions are how we tell if our program is functioning or not.\n",
    "\n",
    "**Ans:**\n",
    "*Functions are pieces of code that perform a unit of work.*   \n",
    "\n",
    "Question 2\n",
    "\n",
    "**What are keywords in Python?**\n",
    "\n",
    "    Keywords are reserved words that are used to construct instructions.\n",
    "    Keywords are used to calculate mathematical operations.\n",
    "    Keywords are used to print messages like \"Hello World!\" to the screen.\n",
    "    Keywords are the words that we need to memorize to program in Python.\n",
    "    \n",
    "**Ans:**\n",
    "*keywords are reserved words that are used to construct instructions.*\n",
    "\n",
    "**Question 3**\n",
    "\n",
    "**What does the print function do in Python?**\n",
    "\n",
    "    a]The print function generates PDFs and sends it to the nearest printer.\n",
    "    b]The print function stores values provided by the user.\n",
    "    c]The print function outputs messages to the screen\n",
    "    d]The print function calculates mathematical operations.\n",
    "\n",
    "**Ans:**\n",
    "*The print function outputs messages to the screen*"
   ]
  },
  {
   "cell_type": "markdown",
   "metadata": {},
   "source": [
    "**Question 4**\n",
    "\n",
    "**Output a message that says \"Programming in Python is fun!\" to the screen.**"
   ]
  },
  {
   "cell_type": "code",
   "execution_count": 131,
   "metadata": {},
   "outputs": [
    {
     "name": "stdout",
     "output_type": "stream",
     "text": [
      "Programming in Python is fun!\n"
     ]
    }
   ],
   "source": [
    "print(\"Programming in Python is fun!\")"
   ]
  },
  {
   "cell_type": "markdown",
   "metadata": {},
   "source": [
    "**Question 5**\n",
    "\n",
    "**Replace the ___ placeholder and calculate the Golden ratio:  1+52\\frac{1+\\sqrt{5}}{2}21+5**\n",
    "Tip: to calculate the square root of a number xxx, you can use x**(1/2)."
   ]
  },
  {
   "cell_type": "code",
   "execution_count": 132,
   "metadata": {},
   "outputs": [
    {
     "name": "stdout",
     "output_type": "stream",
     "text": [
      "1.618033988749895\n"
     ]
    }
   ],
   "source": [
    "ratio = (1+(5**(1/2)))/2\n",
    "print(ratio)"
   ]
  }
 ],
 "metadata": {
  "kernelspec": {
   "display_name": "Python 3.10.4 64-bit",
   "language": "python",
   "name": "python3"
  },
  "language_info": {
   "codemirror_mode": {
    "name": "ipython",
    "version": 3
   },
   "file_extension": ".py",
   "mimetype": "text/x-python",
   "name": "python",
   "nbconvert_exporter": "python",
   "pygments_lexer": "ipython3",
   "version": "3.10.4"
  },
  "orig_nbformat": 4,
  "vscode": {
   "interpreter": {
    "hash": "8c3d4d9970fc5c09c50d9318a9c7fbf4d0159e4b28833276f5678ee22bded273"
   }
  }
 },
 "nbformat": 4,
 "nbformat_minor": 2
}
