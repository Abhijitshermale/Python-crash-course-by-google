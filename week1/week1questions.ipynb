{
 "cells": [
  {
   "cell_type": "markdown",
   "metadata": {},
   "source": [
    "Question\n",
    "\n",
    "Did you get all that? Let's check with a quick question!\n",
    "\n",
    "Why do we need to learn the syntax and semantics of a programming language?\n",
    "\n",
    "To be able to easily switch to a different programming language\n",
    "\n",
    "So that we know which part is the subject and which one is the predicate\n",
    "\n",
    "    To allow us to clearly express what we want the computer to do\n",
    "\n",
    "To understand why our computer crashes"
   ]
  },
  {
   "cell_type": "markdown",
   "metadata": {},
   "source": [
    "Question\n",
    "\n",
    "Let's check that this all made sense with a quick question!\n",
    "\n",
    "What’s automation?\n",
    "\n",
    "1)The process of telling a computer what to do\n",
    "\n",
    "2)The process of installing traffic lights\n",
    "\n",
    "3)The process of getting a haircut\n",
    "\n",
    "    4)The process of replacing a manual step with one that happens automatically\n",
    "\n"
   ]
  },
  {
   "cell_type": "markdown",
   "metadata": {},
   "source": [
    "Question\n",
    "\n",
    "Which of the following tasks do you think are good candidates for automation? Check all that apply.\n",
    "\n",
    "    Periodically scanning the disk usage of a group of fileservers\n",
    "\n",
    "Designing a configuration management system for deploying software patches\n",
    "\n",
    "    Installing software on laptops given to new employees when they are hired\n",
    "\n",
    "Investigating reports that customers are having difficulty accessing your company's external website"
   ]
  },
  {
   "cell_type": "markdown",
   "metadata": {},
   "source": [
    "1.\n",
    "Question 1\n",
    "\n",
    "What’s a computer program?\n",
    "1 point\n",
    "\n",
    "a} A set of languages available in the computer\n",
    "\n",
    "b} A process for getting duplicate values removed from a list\n",
    "\n",
    "     c} A list of instructions that the computer has to follow to reach a goal\n",
    "\n",
    "d} A file that gets copied to all machines in the network\n",
    "\n",
    "\n",
    "2.\n",
    "Question 2\n",
    "\n",
    "What’s the syntax of a language?\n",
    "1 point\n",
    "\n",
    "    a}The rules of how to express things in that language\n",
    "\n",
    "b} The subject of a sentence\n",
    "\n",
    "c} The difference between one language and another\n",
    "\n",
    "d} The meaning of the words\n",
    "\n",
    "\n",
    "3.\n",
    "Question 3\n",
    "\n",
    "What’s the difference between a program and a script?\n",
    "1 point\n",
    "\n",
    "    a} There’s not much difference, but scripts are usually simpler and shorter.\n",
    "\n",
    "b} Scripts are only written in Python.\n",
    "\n",
    "c} Scripts can only be used for simple tasks.\n",
    "\n",
    "d} Programs are written by software engineers; scripts are written by system administrators.\n",
    "\n",
    "\n",
    "4.\n",
    "Question 4\n",
    "\n",
    "Which of these scenarios are good candidates for automation? Select all that apply.\n",
    "1 point\n",
    "\n",
    "a} Generating a sales report, split by region and product type\n",
    "\n",
    "b} Creating your own startup company\n",
    "\n",
    "c} Helping a user who’s having network troubles\n",
    "\n",
    "    d} Copying a file to all computers in a company\n",
    "\n",
    "e} Interviewing a candidate for a job \n",
    "\n",
    "     f} Sending personalized emails to subscribers of your website\n",
    "\n",
    "g} Investigating the root cause of a machine failing to boot\n",
    "5.\n",
    "Question 5\n",
    "\n",
    "What are semantics when applied to programming code and pseudocode?\n",
    "1 point\n",
    "\n",
    "a} The rules for how a programming instruction is written\n",
    "\n",
    "b} The difference in number values in one instance of a script compared to another\n",
    "\n",
    "    c} The effect the programming instructions have\n",
    "\n",
    "d}The end result of a programming instruction"
   ]
  },
  {
   "cell_type": "markdown",
   "metadata": {},
   "source": [
    "Execute the following code and see what happens. Feel free to change it and run it as many times as you want."
   ]
  },
  {
   "cell_type": "code",
   "execution_count": 111,
   "metadata": {},
   "outputs": [
    {
     "name": "stdout",
     "output_type": "stream",
     "text": [
      "Hi Taylor\n",
      "Hi Alex\n",
      "Hi Pat\n",
      "Hi Eli\n"
     ]
    }
   ],
   "source": [
    "friends = ['Taylor', 'Alex', 'Pat', 'Eli']\n",
    "for friend in friends:\n",
    "    print(\"Hi \" + friend)"
   ]
  },
  {
   "cell_type": "markdown",
   "metadata": {},
   "source": [
    "Question\n",
    "\n",
    "Let's check whether you soaked all that in with a quick question! Select all options that explain why Python is relevant to today’s IT industry.\n",
    "\n",
    "    Python scripts are easy to write, understand, and maintain.\n",
    "\n",
    "    There are many system administration tools built with Python.\n",
    "\n",
    "Python was written by Guido van Rossum in 1991.\n",
    "\n",
    "    Python is available on a wide variety of platforms.\n",
    "\n",
    "There have been multiple major version releases over the years which incorporate significant changes to the language.\n",
    "\n",
    "\n"
   ]
  },
  {
   "cell_type": "markdown",
   "metadata": {},
   "source": [
    "Question\n",
    "\n",
    "Here's how printing \"Hello, World\" 10 times looks in Bash and Powershell:\n",
    "\n",
    "Now try out the Python example yourself:\n",
    "\n",
    "\n"
   ]
  },
  {
   "cell_type": "code",
   "execution_count": 112,
   "metadata": {},
   "outputs": [
    {
     "name": "stdout",
     "output_type": "stream",
     "text": [
      "Hello, World!\n",
      "Hello, World!\n",
      "Hello, World!\n",
      "Hello, World!\n",
      "Hello, World!\n",
      "Hello, World!\n",
      "Hello, World!\n",
      "Hello, World!\n",
      "Hello, World!\n",
      "Hello, World!\n"
     ]
    }
   ],
   "source": [
    "for i in range(10):\n",
    "  print(\"Hello, World!\")"
   ]
  },
  {
   "cell_type": "markdown",
   "metadata": {},
   "source": [
    "1.\n",
    "Question 1\n",
    "\n",
    "Fill in the correct Python command to put “My first Python program” onto the screen."
   ]
  },
  {
   "cell_type": "code",
   "execution_count": 113,
   "metadata": {},
   "outputs": [
    {
     "name": "stdout",
     "output_type": "stream",
     "text": [
      "My first Python program\n"
     ]
    }
   ],
   "source": [
    "print(\"My first Python program\")"
   ]
  },
  {
   "cell_type": "markdown",
   "metadata": {},
   "source": [
    "2.\n",
    "Question 2\n",
    "\n",
    "Python is an example of what type of programming language?\n",
    "1 point\n",
    "\n",
    "a}Platform-specific scripting language\n",
    "\n",
    "b}Machine language \n",
    "\n",
    "     c} General purpose scripting language \n",
    "\n",
    "d} Client-side scripting language"
   ]
  },
  {
   "cell_type": "markdown",
   "metadata": {},
   "source": [
    "Question 3\n",
    "\n",
    "Convert this Bash command into Python:"
   ]
  },
  {
   "cell_type": "code",
   "execution_count": 114,
   "metadata": {},
   "outputs": [
    {
     "name": "stdout",
     "output_type": "stream",
     "text": [
      "Have a nice day\n"
     ]
    }
   ],
   "source": [
    "print(\"Have a nice day\")"
   ]
  },
  {
   "cell_type": "markdown",
   "metadata": {},
   "source": [
    "    \n",
    "Question 4\n",
    "\n",
    "Fill in the correct Python commands to put “This is fun!” onto the screen 5 times. "
   ]
  },
  {
   "cell_type": "code",
   "execution_count": 115,
   "metadata": {},
   "outputs": [
    {
     "name": "stdout",
     "output_type": "stream",
     "text": [
      "This is fun!\n",
      "This is fun!\n",
      "This is fun!\n",
      "This is fun!\n",
      "This is fun!\n"
     ]
    }
   ],
   "source": [
    "for i in range(5):\n",
    "  print(\"This is fun!\")"
   ]
  },
  {
   "cell_type": "markdown",
   "metadata": {},
   "source": [
    "5.\n",
    "Question 5\n",
    "\n",
    "Select the Python code snippet that corresponds to the following Javascript snippet:\n",
    "for (let i = 0; i < 10; i++) {\n",
    "        console.log(i);\n",
    "    }\n",
    "\n",
    "a}  for a in 1..5 do\n",
    "      \n",
    " puts i \n",
    "\n",
    "end\n",
    "\n",
    "b}  for (int i = 0; i < 10; i++)\n",
    "{\n",
    "print()\n",
    "}\n",
    "\n",
    "c}  for (i in x) \n",
    "{\n",
    "print(i)\n",
    "}\n",
    "\n",
    "     d}for i in range(10):\n",
    "      print(i)\n"
   ]
  },
  {
   "cell_type": "code",
   "execution_count": 116,
   "metadata": {},
   "outputs": [
    {
     "name": "stdout",
     "output_type": "stream",
     "text": [
      "0\n",
      "1\n",
      "2\n",
      "3\n",
      "4\n",
      "5\n",
      "6\n",
      "7\n",
      "8\n",
      "9\n"
     ]
    }
   ],
   "source": [
    "# ans\n",
    "for i in range(10):\n",
    "  print(i)"
   ]
  },
  {
   "cell_type": "markdown",
   "metadata": {},
   "source": [
    "Question\n",
    "\n",
    "Now that you know what’s going on with this piece of code, try making Python output a different string. Write a Python script that outputs \"I'm programming in Python!\" to the screen. Remember that you need to use the print() function and use quotation marks to delimiter the string."
   ]
  },
  {
   "cell_type": "code",
   "execution_count": 117,
   "metadata": {},
   "outputs": [
    {
     "name": "stdout",
     "output_type": "stream",
     "text": [
      "I'm programming in Python!\n"
     ]
    }
   ],
   "source": [
    "print(\"I'm programming in Python!\")"
   ]
  },
  {
   "cell_type": "markdown",
   "metadata": {},
   "source": [
    "Question\n",
    "\n",
    "Give it a try yourself! In the following script, change the values of color and thing to have the computer output a different statement than the initial one."
   ]
  },
  {
   "cell_type": "code",
   "execution_count": 118,
   "metadata": {},
   "outputs": [
    {
     "name": "stdout",
     "output_type": "stream",
     "text": [
      "White is the color of scielence\n"
     ]
    }
   ],
   "source": [
    "color = \"White\"\n",
    "thing = \"scielence\"\n",
    "print(color + \" is the color of \" + thing)"
   ]
  },
  {
   "cell_type": "markdown",
   "metadata": {},
   "source": [
    "Question\n",
    "\n",
    "Now it’s your turn to try! Give this a go yourself.\n",
    "\n",
    "Use Python to calculate (((1+2)∗3)/4)5(((1+2)*3)/4)^5(((1+2)∗3)/4)5\n",
    "\n",
    "Tip: remember that you can use a**b to calculate a to the power of b. "
   ]
  },
  {
   "cell_type": "code",
   "execution_count": 119,
   "metadata": {},
   "outputs": [
    {
     "name": "stdout",
     "output_type": "stream",
     "text": [
      "57.6650390625\n"
     ]
    }
   ],
   "source": [
    "print((((1+2)*3)/4)**5)"
   ]
  },
  {
   "cell_type": "markdown",
   "metadata": {},
   "source": [
    "1.\n",
    "Question 1\n",
    "\n",
    "What are functions in Python?\n",
    "1 / 1 point\n",
    "\n",
    "Functions let us to use Python as a calculator.\n",
    "\n",
    "    Functions are pieces of code that perform a unit of work.\n",
    "\n",
    "Functions are only used to print messages to the screen.\n",
    "\n",
    "Functions are how we tell if our program is functioning or not.\n",
    "    \n",
    "2.\n",
    "Question 2\n",
    "\n",
    "What are keywords in Python?\n",
    "1 / 1 point\n",
    "\n",
    "    Keywords are reserved words that are used to construct instructions.\n",
    "\n",
    "Keywords are used to calculate mathematical operations.\n",
    "\n",
    "Keywords are used to print messages like \"Hello World!\" to the screen.\n",
    "\n",
    "Keywords are the words that we need to memorize to program in Python.\n",
    "    \n",
    "3.\n",
    "Question 3\n",
    "\n",
    "What does the print function do in Python?\n",
    "1 / 1 point\n",
    "\n",
    "The print function generates PDFs and sends it to the nearest printer.\n",
    "\n",
    "The print function stores values provided by the user.\n",
    "\n",
    "    The print function outputs messages to the screen\n",
    "\n",
    "The print function calculates mathematical operations."
   ]
  },
  {
   "cell_type": "markdown",
   "metadata": {},
   "source": [
    "4.\n",
    "Question 4\n",
    "\n",
    "Output a message that says \"Programming in Python is fun!\" to the screen.\n",
    "1 / 1 point\n"
   ]
  },
  {
   "cell_type": "code",
   "execution_count": 120,
   "metadata": {},
   "outputs": [
    {
     "name": "stdout",
     "output_type": "stream",
     "text": [
      "Programming in Python is fun!\n"
     ]
    }
   ],
   "source": [
    "print(\"Programming in Python is fun!\")"
   ]
  },
  {
   "cell_type": "markdown",
   "metadata": {},
   "source": [
    "5.\n",
    "Question 5\n",
    "\n",
    "Replace the ___ placeholder and calculate the Golden ratio:  1+52\\frac{1+\\sqrt{5}}{2}21+5\n",
    "Tip: to calculate the square root of a number xxx, you can use x**(1/2).\n",
    "0 / 1 point"
   ]
  },
  {
   "cell_type": "code",
   "execution_count": 121,
   "metadata": {},
   "outputs": [
    {
     "name": "stdout",
     "output_type": "stream",
     "text": [
      "1.618033988749895\n"
     ]
    }
   ],
   "source": [
    "ratio = (1+(5**(1/2)))/2\n",
    "print(ratio)"
   ]
  }
 ],
 "metadata": {
  "kernelspec": {
   "display_name": "Python 3.10.4 64-bit",
   "language": "python",
   "name": "python3"
  },
  "language_info": {
   "codemirror_mode": {
    "name": "ipython",
    "version": 3
   },
   "file_extension": ".py",
   "mimetype": "text/x-python",
   "name": "python",
   "nbconvert_exporter": "python",
   "pygments_lexer": "ipython3",
   "version": "3.10.4"
  },
  "orig_nbformat": 4,
  "vscode": {
   "interpreter": {
    "hash": "8c3d4d9970fc5c09c50d9318a9c7fbf4d0159e4b28833276f5678ee22bded273"
   }
  }
 },
 "nbformat": 4,
 "nbformat_minor": 2
}
